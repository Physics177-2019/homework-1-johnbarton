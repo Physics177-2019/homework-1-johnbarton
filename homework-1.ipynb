{
  "nbformat": 4,
  "nbformat_minor": 0,
  "metadata": {
    "colab": {
      "name": "homework-1.ipynb",
      "version": "0.3.2",
      "provenance": []
    },
    "kernelspec": {
      "display_name": "Python 3",
      "language": "python",
      "name": "python3"
    }
  },
  "cells": [
    {
      "metadata": {
        "id": "klGB0mqbY2EV",
        "colab_type": "text"
      },
      "cell_type": "markdown",
      "source": [
        "# Homework 1: Introduction to Jupyter and GitHub\n",
        "\n",
        "**Due Tuesday, January 15.**\n",
        "\n",
        "*John Barton\n",
        "my name again*"
      ]
    },
    {
      "metadata": {
        "id": "eexZPIRXY2EW",
        "colab_type": "text"
      },
      "cell_type": "markdown",
      "source": [
        "## Introduction\n",
        "\n",
        "Now that you have **Python 3** and **Jupyter** installed, you can open this notebook in Jupyter. How you do this might vary a bit from system to system, but a common approach is to run `jupyter notebook` from the command line (a.k.a. terminal) in the folder where you've downloaded this file (`homework-1.ipynb`). \n",
        "\n",
        "We won't be running anything else directly from the terminal in this course, but more information is available [here](https://swcarpentry.github.io/shell-novice/) if you're interested. "
      ]
    },
    {
      "metadata": {
        "id": "nguqrwgVY2EY",
        "colab_type": "text"
      },
      "cell_type": "markdown",
      "source": [
        "## 4. Practice basic Jupyter I\n",
        "\n",
        "You may have noticed that the text in this document is organized into discrete blocks called cells. You can click on any cell to select it, and double click to edit. Edit the first cell to enter your name. Once you're done, you can execute the code (or format the text) in the cell by using the menu bar above, or with the keyboard shortcut `shift + enter`.\n",
        "\n",
        "Jupyter notebooks use a lightweight language called [Markdown](https://en.wikipedia.org/wiki/Markdown) for formatting plain text. Here is a [guide](https://github.com/adam-p/markdown-here/wiki/Markdown-Cheatsheet) to some common Markdown notation. You can also use Markdown to format equations by enclosing them in `$` symbols! Equation formatting follows $\\LaTeX$ conventions.\n",
        "\n",
        "Let's practice using Jupyter and Markdown by:  \n",
        "1. Inserting a new cell below this one. To do this, select this cell and select `Insert` > `Insert Cell Below` from the menu.  \n",
        "2. Click on the new cell and change its type to Markdown by selecting it and selecting `Cell` > `Cell Type` > `Markdown` from the menu.  \n",
        "3. Add a heading in that cell with a single `#`, and a subheading with `##`.  \n",
        "4. Now add a numbered list below that. You can also generated un-numbered lists by using `*` or other starting characters.  \n",
        "5. Add an equation to your text box using Latex.  "
      ]
    },
    {
      "metadata": {
        "id": "894BsgLrY2EZ",
        "colab_type": "text"
      },
      "cell_type": "markdown",
      "source": [
        "## 5. Practice basic Jupyter II\n",
        "\n",
        "Let's now do some light practice with code cells in Jupyter:\n",
        "1. Insert another cell below this one. By default, it will be a code cell.  \n",
        "2. Define a variable in that cell. For example, we could set `x = 3`.\n",
        "3. Now let's insert another new cell below that one. Print out the variable that you defined in the previous cell. For the example above, I could write `print(x)`.  \n",
        "\n",
        "Note that, as shown above, variables defined in one cell still hold their values in another cell! Each cell is not a separate compute environment. **Variables are shared across the entire notebook.** This is important to keep in mind when you are coding, so that you don't accidentally use a variable that you might not have intended to use."
      ]
    },
    {
      "metadata": {
        "id": "LfOHMrK7Y2Ea",
        "colab_type": "text"
      },
      "cell_type": "markdown",
      "source": [
        "## 6. Submit the homework assignment\n",
        "\n",
        "First, save your modified version of this file by using the shortcut `contrl+s` or by selecting `File` > `Save and Checkpoint` from the menu. Next, upload it to your GitHub repository for this homework. "
      ]
    },
    {
      "metadata": {
        "id": "P1RjywqvY2Ec",
        "colab_type": "code",
        "colab": {}
      },
      "cell_type": "code",
      "source": [
        ""
      ],
      "execution_count": 0,
      "outputs": []
    }
  ]
}